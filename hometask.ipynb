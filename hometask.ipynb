{
 "cells": [
  {
   "cell_type": "code",
   "execution_count": 10,
   "id": "16dee045-f6e1-4609-b8a1-ba31f24ed7d0",
   "metadata": {},
   "outputs": [
    {
     "name": "stdout",
     "output_type": "stream",
     "text": [
      "prediction: [3 0]\n",
      "Confusion Matrix:\n",
      "[[1 0]\n",
      " [0 1]]\n",
      "accuracy: 1.0\n"
     ]
    }
   ],
   "source": [
    "from sklearn import preprocessing\n",
    "import pandas as pd\n",
    "import numpy as np\n",
    "from sklearn.tree import DecisionTreeClassifier\n",
    "from sklearn.tree import DecisionTreeClassifier\n",
    "size = ['Small', 'Small', 'Large', 'Small', 'Large', 'Large', 'Small', 'Large', 'Large', 'Small']\n",
    "color= ['Red', 'Green', 'Red', 'Green', 'Green', 'Red', 'Red', 'Green', 'Green', 'Red']\n",
    "vegetable= ['potato', 'onion', 'potato', 'chilli', 'tomato', 'potato', 'onion', 'potato', 'chilli', 'tomato']\n",
    "le= preprocessing.LabelEncoder()\n",
    "size_encoded=le.fit_transform(size)\n",
    "color_encoded=le.fit_transform (color)\n",
    "vegetable_encoded=le.fit_transform(vegetable)\n",
    "features=list(zip(size_encoded, color_encoded, vegetable_encoded))\n",
    "from sklearn.model_selection import train_test_split\n",
    "features_train, features_test, label_train, label_test=train_test_split(features,vegetable_encoded, test_size=0.2, random_state=40)\n",
    "classifier= DecisionTreeClassifier()\n",
    "classifier= classifier.fit(features_train, label_train)\n",
    "predicted =classifier.predict(features_test)\n",
    "print(\"prediction:\", predicted)\n",
    "from sklearn.metrics import confusion_matrix, accuracy_score\n",
    "conf_mat= confusion_matrix(label_test, predicted)\n",
    "print(\"Confusion Matrix:\")\n",
    "print(conf_mat)\n",
    "accuracy= accuracy_score(label_test, predicted)\n",
    "print(\"accuracy:\", accuracy)"
   ]
  },
  {
   "cell_type": "code",
   "execution_count": null,
   "id": "bee496d4-9481-4228-b222-82f16d789848",
   "metadata": {},
   "outputs": [],
   "source": []
  },
  {
   "cell_type": "code",
   "execution_count": null,
   "id": "495477f9-b27a-4dc2-9ef0-bbdc8b518005",
   "metadata": {},
   "outputs": [],
   "source": []
  }
 ],
 "metadata": {
  "kernelspec": {
   "display_name": "Python 3 (ipykernel)",
   "language": "python",
   "name": "python3"
  },
  "language_info": {
   "codemirror_mode": {
    "name": "ipython",
    "version": 3
   },
   "file_extension": ".py",
   "mimetype": "text/x-python",
   "name": "python",
   "nbconvert_exporter": "python",
   "pygments_lexer": "ipython3",
   "version": "3.12.7"
  }
 },
 "nbformat": 4,
 "nbformat_minor": 5
}
