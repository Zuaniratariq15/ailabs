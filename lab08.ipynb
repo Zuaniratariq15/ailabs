{
 "cells": [
  {
   "cell_type": "code",
   "execution_count": 26,
   "id": "f2c40fb0-133c-4b30-b4e8-15d83c3b3a6a",
   "metadata": {},
   "outputs": [
    {
     "name": "stdin",
     "output_type": "stream",
     "text": [
      "Enter the User Name to get movie recommendations:  fatimah\n",
      "Enter the number of recommendations you want:  2\n"
     ]
    },
    {
     "name": "stdout",
     "output_type": "stream",
     "text": [
      "Recommended movies for fatimah: [2, 3]\n"
     ]
    }
   ],
   "source": [
    "import pandas as pd\n",
    "import numpy as np\n",
    "from sklearn.metrics.pairwise import cosine_similarity\n",
    "\n",
    "# Step 1: Load the dataset with user names\n",
    "data = pd.DataFrame({\n",
    "    'user_name': ['fatimah', 'aeem', 'zuni', 'Bilal', 'usman', 'affan', 'biya', 'meenu', 'hafsa', 'insh', 'naeemah', 'Diana', 'Diana'],\n",
    "    'movie_id': [1, 2, 3, 1, 2, 3, 1, 2, 3, 4, 2, 3, 4],\n",
    "    'rating': [5, 3, 4, 4, 0, 5, 2, 5, 0, 4, 4, 4, 5]\n",
    "})\n",
    "\n",
    "# Step 2: Create the user-item rating matrix\n",
    "user_item_matrix = data.pivot(index='user_name', columns='movie_id', values='rating').fillna(0)\n",
    "\n",
    "# Step 3: Calculate cosine similarity between movies\n",
    "# Step 3: Calculate cosine similarity between movies\n",
    "movie_similarity = cosine_similarity(user_item_matrix.T)\n",
    "movie_similarity_df = pd.DataFrame(movie_similarity, index=user_item_matrix.columns, columns=user_item_matrix.columns)\n",
    "\n",
    "# Step 4: Define a function to recommend movies for a user\n",
    "def recommend_movies(user_name, num_recommendations=5):\n",
    "    if user_name not in user_item_matrix.index:\n",
    "        return f\"User '{user_name}' not found in the dataset.\"\n",
    "    \n",
    "    user_ratings = user_item_matrix.loc[user_name]\n",
    "    rated_movies = user_ratings[user_ratings > 0].index\n",
    "    predicted_ratings = {}\n",
    "    \n",
    "    for movie_id in user_item_matrix.columns:\n",
    "        if movie_id not in rated_movies:\n",
    "            similar_movies = movie_similarity_df[movie_id]\n",
    "            user_rated_similarities = similar_movies[rated_movies]\n",
    "            user_rated_values = user_ratings[rated_movies]\n",
    "            \n",
    "            if user_rated_similarities.sum() > 0:\n",
    "                predicted_rating = (user_rated_similarities @ user_rated_values) / user_rated_similarities.sum()\n",
    "            else:\n",
    "                predicted_rating = 0\n",
    "            \n",
    "            predicted_ratings[movie_id] = predicted_rating\n",
    "    \n",
    "    recommended_movies = sorted(predicted_ratings.items(), key=lambda x: x[1], reverse=True)[:num_recommendations]\n",
    "    return [movie for movie, rating in recommended_movies]\n",
    "\n",
    "# Step 5: Take user input and recommend movies\n",
    "try:\n",
    "    user_name = input(\"Enter the User Name to get movie recommendations: \")\n",
    "    num_recommendations = int(input(\"Enter the number of recommendations you want: \"))\n",
    "    recommended_movies = recommend_movies(user_name, num_recommendations)\n",
    "    print(f\"Recommended movies for {user_name}: {recommended_movies}\")\n",
    "except ValueError:\n",
    "    print(\"Please enter valid inputs for user name and number of recommendations.\")\n"
   ]
  },
  {
   "cell_type": "code",
   "execution_count": null,
   "id": "01785916-374f-4cf8-9846-e2b3de38769c",
   "metadata": {},
   "outputs": [],
   "source": []
  }
 ],
 "metadata": {
  "kernelspec": {
   "display_name": "Python 3 (ipykernel)",
   "language": "python",
   "name": "python3"
  },
  "language_info": {
   "codemirror_mode": {
    "name": "ipython",
    "version": 3
   },
   "file_extension": ".py",
   "mimetype": "text/x-python",
   "name": "python",
   "nbconvert_exporter": "python",
   "pygments_lexer": "ipython3",
   "version": "3.12.7"
  }
 },
 "nbformat": 4,
 "nbformat_minor": 5
}
