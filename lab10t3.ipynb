{
 "cells": [
  {
   "cell_type": "code",
   "execution_count": 7,
   "id": "6f164cb3",
   "metadata": {},
   "outputs": [
    {
     "name": "stdout",
     "output_type": "stream",
     "text": [
      "Dear zuni, I would like to invite you to dinner.\n",
      "Dear hana, I would like to invite you to dinner.\n",
      "Dear fatimah, I would like to invite you to dinner.\n"
     ]
    }
   ],
   "source": [
    "# Original list of people to invite to dinner\n",
    "guests = [\"hana\", \"fatimah\", \"zuni\"]\n",
    "\n",
    "guests[0] = \"hehe\"  \n",
    "\n",
    "print(\"Updated Invitations:\")\n",
    "for guest in guests:\n",
    "    print(f\"Dear {guest}, I would like to invite you to dinner.\")\n",
    "\n"
   ]
  },
  {
   "cell_type": "code",
   "execution_count": null,
   "id": "05544960",
   "metadata": {},
   "outputs": [],
   "source": []
  }
 ],
 "metadata": {
  "kernelspec": {
   "display_name": "Python 3 (ipykernel)",
   "language": "python",
   "name": "python3"
  },
  "language_info": {
   "codemirror_mode": {
    "name": "ipython",
    "version": 3
   },
   "file_extension": ".py",
   "mimetype": "text/x-python",
   "name": "python",
   "nbconvert_exporter": "python",
   "pygments_lexer": "ipython3",
   "version": "3.9.12"
  }
 },
 "nbformat": 4,
 "nbformat_minor": 5
}
