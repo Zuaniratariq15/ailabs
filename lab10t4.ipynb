{
 "cells": [
  {
   "cell_type": "code",
   "execution_count": 7,
   "id": "f531343d",
   "metadata": {},
   "outputs": [
    {
     "name": "stdout",
     "output_type": "stream",
     "text": [
      "Dear zuni, I would like to invite you to dinner.\n",
      "Dear hana, I would like to invite you to dinner.\n",
      "Dear fatimah, I would like to invite you to dinner.\n"
     ]
    }
   ],
   "source": [
    "class Employee:\n",
    "\n",
    "    employee_count = 0\n",
    "    \n",
    "    def __init__(self, empName, salary):\n",
    "        self.empName = empName\n",
    "        self.salary = salary\n",
    "        Employee.employee_count += 1 \n",
    "    \n",
    "    @staticmethod\n",
    "    def displayCount():\n",
    "        print(f\"Total number of employees: {Employee.employee_count}\")\n",
    "    \n",
    "    def displayEmployee(self):\n",
    "        print(f\"Employee Name: {self.empName}, Salary: {self.salary}\")\n",
    "\n",
    "emp1 = Employee(\"fatimah\", 50000)\n",
    "emp2 = Employee(\"hana\", 60000)\n",
    "emp3 = Employee(\"zuni\", 55000)\n",
    "\n",
    "Employee.displayCount()\n",
    "\n",
    "emp1.displayEmployee()\n",
    "emp2.displayEmployee()\n",
    "emp3.displayEmployee()\n",
    "\n"
   ]
  },
  {
   "cell_type": "code",
   "execution_count": null,
   "id": "d06c19e5",
   "metadata": {},
   "outputs": [],
   "source": []
  }
 ],
 "metadata": {
  "kernelspec": {
   "display_name": "Python 3 (ipykernel)",
   "language": "python",
   "name": "python3"
  },
  "language_info": {
   "codemirror_mode": {
    "name": "ipython",
    "version": 3
   },
   "file_extension": ".py",
   "mimetype": "text/x-python",
   "name": "python",
   "nbconvert_exporter": "python",
   "pygments_lexer": "ipython3",
   "version": "3.9.12"
  }
 },
 "nbformat": 4,
 "nbformat_minor": 5
}
