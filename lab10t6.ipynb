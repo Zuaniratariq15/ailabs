{
 "cells": [
  {
   "cell_type": "code",
   "execution_count": 9,
   "id": "2ead1f6f",
   "metadata": {},
   "outputs": [
    {
     "name": "stdout",
     "output_type": "stream",
     "text": [
      "After inserting 4: [4]\n",
      "After inserting 8: [8, 4]\n",
      "After inserting 1: [8, 4, 1]\n",
      "After inserting 7: [8, 7, 1, 4]\n",
      "After inserting 3: [8, 7, 1, 4, 3]\n"
     ]
    }
   ],
   "source": [
    "import heapq\n",
    "\n",
    "max_priority_queue = []\n",
    "\n",
    "heapq.heappush(max_priority_queue, -4)  \n",
    "print(\"After inserting 4:\", [-x for x in max_priority_queue])\n",
    "\n",
    "heapq.heappush(max_priority_queue, -8) \n",
    "print(\"After inserting 8:\", [-x for x in max_priority_queue])\n",
    "\n",
    "heapq.heappush(max_priority_queue, -1) \n",
    "print(\"After inserting 1:\", [-x for x in max_priority_queue])\n",
    "\n",
    "heapq.heappush(max_priority_queue, -7) \n",
    "print(\"After inserting 7:\", [-x for x in max_priority_queue])\n",
    "\n",
    "heapq.heappush(max_priority_queue, -3) \n",
    "print(\"After inserting 3:\", [-x for x in max_priority_queue])\n",
    "\n"
   ]
  },
  {
   "cell_type": "code",
   "execution_count": null,
   "id": "65e7bd43",
   "metadata": {},
   "outputs": [],
   "source": []
  }
 ],
 "metadata": {
  "kernelspec": {
   "display_name": "Python 3 (ipykernel)",
   "language": "python",
   "name": "python3"
  },
  "language_info": {
   "codemirror_mode": {
    "name": "ipython",
    "version": 3
   },
   "file_extension": ".py",
   "mimetype": "text/x-python",
   "name": "python",
   "nbconvert_exporter": "python",
   "pygments_lexer": "ipython3",
   "version": "3.9.12"
  }
 },
 "nbformat": 4,
 "nbformat_minor": 5
}
