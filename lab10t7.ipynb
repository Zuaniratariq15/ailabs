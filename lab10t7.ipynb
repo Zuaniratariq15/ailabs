{
 "cells": [
  {
   "cell_type": "code",
   "execution_count": 10,
   "id": "ca4cbda7",
   "metadata": {},
   "outputs": [
    {
     "name": "stdout",
     "output_type": "stream",
     "text": [
      "Vertex 1 with neighbors [2, 3]\n",
      "Vertex 2 with neighbors [1, 4]\n",
      "Vertex 3 with neighbors [1, 5]\n",
      "Vertex 4 with neighbors [2, 5]\n",
      "Vertex 5 with neighbors [3]\n"
     ]
    }
   ],
   "source": [
    "class Vertex:\n",
    "    def __init__(self, key):\n",
    "        self.key = key\n",
    "        self.neighbors = [] \n",
    "    \n",
    "    def add_neighbor(self, neighbor):\n",
    "        \"\"\"Add a neighbor to the vertex.\"\"\"\n",
    "        self.neighbors.append(neighbor)\n",
    "    \n",
    "    def __str__(self):\n",
    "        return f\"Vertex {self.key} with neighbors {self.neighbors}\"\n",
    "\n",
    "\n",
    "class Graph:\n",
    "    def __init__(self):\n",
    "        self.vertices = {}  \n",
    "    \n",
    "    def add_vertex(self, key):\n",
    "        \"\"\"Add a vertex to the graph.\"\"\"\n",
    "        if key not in self.vertices:\n",
    "            self.vertices[key] = Vertex(key)\n",
    "        else:\n",
    "            print(f\"Vertex {key} already exists.\")\n",
    "    \n",
    "    def add_vertices(self, keys):\n",
    "        \"\"\"Add multiple vertices to the graph.\"\"\"\n",
    "        for key in keys:\n",
    "            self.add_vertex(key)\n",
    "    \n",
    "    def add_edge(self, key1, key2):\n",
    "        \"\"\"Add an edge between two vertices.\"\"\"\n",
    "        if key1 in self.vertices and key2 in self.vertices:\n",
    "            self.vertices[key1].add_neighbor(key2)\n",
    "            self.vertices[key2].add_neighbor(key1)\n",
    "        else:\n",
    "            print(f\"One or both vertices {key1}, {key2} do not exist.\")\n",
    "    \n",
    "    def add_neighbors(self, key, neighbors):\n",
    "        \"\"\"Add multiple neighbors to a vertex.\"\"\"\n",
    "        if key in self.vertices:\n",
    "            for neighbor in neighbors:\n",
    "                self.vertices[key].add_neighbor(neighbor)\n",
    "        else:\n",
    "            print(f\"Vertex {key} does not exist.\")\n",
    "    \n",
    "    def display_graph(self):\n",
    "        \"\"\"Display the entire graph with vertices and their neighbors.\"\"\"\n",
    "        for vertex in self.vertices.values():\n",
    "            print(vertex)\n",
    "\n",
    "\n",
    "graph = Graph()\n",
    "\n",
    "graph.add_vertices([1, 2, 3, 4, 5])\n",
    "\n",
    "graph.add_edge(1, 2)\n",
    "graph.add_edge(1, 3)\n",
    "graph.add_edge(2, 4)\n",
    "graph.add_edge(3, 5)\n",
    "\n",
    "graph.add_neighbors(4, [5])\n",
    "\n",
    "graph.display_graph()\n"
   ]
  },
  {
   "cell_type": "code",
   "execution_count": null,
   "id": "b7008568",
   "metadata": {},
   "outputs": [],
   "source": []
  }
 ],
 "metadata": {
  "kernelspec": {
   "display_name": "Python 3 (ipykernel)",
   "language": "python",
   "name": "python3"
  },
  "language_info": {
   "codemirror_mode": {
    "name": "ipython",
    "version": 3
   },
   "file_extension": ".py",
   "mimetype": "text/x-python",
   "name": "python",
   "nbconvert_exporter": "python",
   "pygments_lexer": "ipython3",
   "version": "3.9.12"
  }
 },
 "nbformat": 4,
 "nbformat_minor": 5
}
