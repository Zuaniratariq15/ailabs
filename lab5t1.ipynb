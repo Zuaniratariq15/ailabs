{
 "cells": [
  {
   "cell_type": "code",
   "execution_count": 11,
   "id": "51a88f3b-decf-41f6-b094-21ed8e5145cc",
   "metadata": {},
   "outputs": [
    {
     "name": "stdout",
     "output_type": "stream",
     "text": [
      "prediction: [2 4]\n",
      "Confusion Matrix:\n",
      "[[0 0 0 0]\n",
      " [1 0 0 0]\n",
      " [0 0 0 0]\n",
      " [0 0 1 0]]\n",
      "accuracy: 0.0\n"
     ]
    }
   ],
   "source": [
    "from sklearn import preprocessing\n",
    "import pandas as pd\n",
    "import numpy as np\n",
    "from sklearn.tree import DecisionTreeClassifier\n",
    "Gender = [\"male\", \"male\", \"male\", \"male\", \"female\", \"female\", \"female\", \"female\"]\n",
    "height = [6.00, 5.92, 5.58, 5.92, 5.00, 5.50, 5.42, 5.75]\n",
    "weight = [180, 190, 170, 165, 100, 150, 130, 150]\n",
    "footsize = [12, 11, 12, 10, 6, 8, 7, 9]\n",
    "le = preprocessing.LabelEncoder()\n",
    "height_encoded=le.fit_transform(height)\n",
    "weight_encoded=le.fit_transform(weight)\n",
    "footsize_encoded=le.fit_transform(footsize)\n",
    "features=list(zip(height_encoded,weight_encoded, footsize_encoded))\n",
    "from sklearn.model_selection import train_test_split\n",
    "features_train, features_test,label_train,label_test=train_test_split(features, footsize_encoded, test_size=0.2, random_state=40)\n",
    "classifier = DecisionTreeClassifier()\n",
    "classifier = classifier.fit(features_train, label_train)\n",
    "predicted = classifier.predict(features_test)\n",
    "print(\"prediction:\", predicted)\n",
    "from sklearn.metrics import confusion_matrix, accuracy_score\n",
    "conf_mat = confusion_matrix(label_test, predicted)\n",
    "print(\"Confusion Matrix:\")\n",
    "print(conf_mat)\n",
    "accuracy=accuracy_score(label_test, predicted)\n",
    "print(\"accuracy:\",accuracy)"
   ]
  },
  {
   "cell_type": "code",
   "execution_count": 13,
   "id": "028fbc8a-9eb2-4a2e-9759-b1a0a0defdc1",
   "metadata": {},
   "outputs": [
    {
     "name": "stdout",
     "output_type": "stream",
     "text": [
      "Prediction: [0 1]\n",
      "Confusion Matrix:\n",
      "[[1 0]\n",
      " [0 1]]\n",
      "Accuracy: 1.0\n"
     ]
    }
   ],
   "source": [
    "from sklearn import preprocessing\n",
    "import pandas as pd\n",
    "from sklearn.tree import DecisionTreeClassifier\n",
    "from sklearn.model_selection import train_test_split\n",
    "from sklearn.metrics import confusion_matrix, accuracy_score\n",
    "Gender = [\"male\", \"male\", \"male\", \"male\", \"female\", \"female\", \"female\", \"female\"]\n",
    "height = [6.00, 5.92, 5.58, 5.92, 5.00, 5.50, 5.42, 5.75]\n",
    "weight = [180, 190, 170, 165, 100, 150, 130, 150]\n",
    "footsize = [12, 11, 12, 10, 6, 8, 7, 9]\n",
    "le = preprocessing.LabelEncoder()\n",
    "Gender_encoded = le.fit_transform(Gender)  # Target variable (0: female, 1: male)\n",
    "height_encoded = le.fit_transform(height)\n",
    "weight_encoded = le.fit_transform(weight)\n",
    "features = list(zip(height_encoded, weight_encoded))\n",
    "features_train, features_test, label_train, label_test = train_test_split(\n",
    "    features, Gender_encoded, test_size=0.2, random_state=40\n",
    ")\n",
    "classifier = DecisionTreeClassifier()\n",
    "classifier.fit(features_train, label_train)\n",
    "predicted = classifier.predict(features_test)\n",
    "conf_mat = confusion_matrix(label_test, predicted)\n",
    "accuracy = accuracy_score(label_test, predicted)\n",
    "print(\"Prediction:\", predicted)\n",
    "print(\"Confusion Matrix:\")\n",
    "print(conf_mat)\n",
    "print(\"Accuracy:\", accuracy)\n"
   ]
  },
  {
   "cell_type": "code",
   "execution_count": null,
   "id": "d774a906-12ce-4bb4-9a24-1202b4388087",
   "metadata": {},
   "outputs": [],
   "source": []
  }
 ],
 "metadata": {
  "kernelspec": {
   "display_name": "Python 3 (ipykernel)",
   "language": "python",
   "name": "python3"
  },
  "language_info": {
   "codemirror_mode": {
    "name": "ipython",
    "version": 3
   },
   "file_extension": ".py",
   "mimetype": "text/x-python",
   "name": "python",
   "nbconvert_exporter": "python",
   "pygments_lexer": "ipython3",
   "version": "3.12.7"
  }
 },
 "nbformat": 4,
 "nbformat_minor": 5
}
