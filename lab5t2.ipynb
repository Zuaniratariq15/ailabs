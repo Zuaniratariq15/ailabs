{
 "cells": [
  {
   "cell_type": "code",
   "execution_count": null,
   "id": "2e957df2-d414-4d91-a3f2-847ee3bcba89",
   "metadata": {},
   "outputs": [],
   "source": [
    "from sklearn import preprocessing\n",
    "from sklearn.tree import DecisionTreeClassifier\n",
    "from sklearn.model_selection import train_test_split\n",
    "from sklearn.metrics import confusion_matrix, accuracy_score\n",
    "\n",
    "# Original Data\n",
    "Gender = [\"male\", \"male\", \"male\", \"male\", \"female\", \"female\", \"female\", \"female\"]\n",
    "height = [6.00, 5.92, 5.58, 5.92, 5.00, 5.50, 5.42, 5.75]\n",
    "weight = [180, 190, 170, 165, 100, 150, 130, 150]\n",
    "\n",
    "# Encoding Labels\n",
    "le_gender = preprocessing.LabelEncoder()\n",
    "Gender_encoded = le_gender.fit_transform(Gender)  # Target variable (0: female, 1: male)\n",
    "le_height = preprocessing.LabelEncoder()\n",
    "le_weight = preprocessing.LabelEncoder()\n",
    "\n",
    "height_encoded = le_height.fit_transform(height)\n",
    "weight_encoded = le_weight.fit_transform(weight)\n",
    "\n",
    "# Features\n",
    "features = list(zip(height_encoded, weight_encoded))\n",
    "\n",
    "# Train-Test Split\n",
    "features_train, features_test, label_train, label_test = train_test_split(\n",
    "    features, Gender_encoded, test_size=0.2, random_state=40\n",
    ")\n",
    "\n",
    "# Model Training\n",
    "classifier = DecisionTreeClassifier()\n",
    "classifie\n"
   ]
  }
 ],
 "metadata": {
  "kernelspec": {
   "display_name": "Python 3 (ipykernel)",
   "language": "python",
   "name": "python3"
  },
  "language_info": {
   "codemirror_mode": {
    "name": "ipython",
    "version": 3
   },
   "file_extension": ".py",
   "mimetype": "text/x-python",
   "name": "python",
   "nbconvert_exporter": "python",
   "pygments_lexer": "ipython3",
   "version": "3.12.7"
  }
 },
 "nbformat": 4,
 "nbformat_minor": 5
}
