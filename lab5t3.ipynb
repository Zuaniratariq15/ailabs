{
 "cells": [
  {
   "cell_type": "code",
   "execution_count": 42,
   "id": "790607be-4f0f-4cf7-8aae-53ffdcb1b759",
   "metadata": {},
   "outputs": [
    {
     "name": "stdout",
     "output_type": "stream",
     "text": [
      "prediction: [4 4]\n",
      "Confusion Matrix:\n",
      "[[0 1 0]\n",
      " [0 0 0]\n",
      " [0 1 0]]\n",
      "accuracy: 0.0\n"
     ]
    }
   ],
   "source": [
    "from sklearn import preprocessing\n",
    "import pandas as pd\n",
    "import numpy as np\n",
    "from sklearn.tree import DecisionTreeClassifier\n",
    "Gender = [\"male\", \"male\", \"male\", \"male\", \"female\", \"female\", \"female\", \"female\"]\n",
    "height = [6.00, 5.92, 5.58, 5.92, 5.00, 5.50, 5.42, 5.75]\n",
    "weight = [180, 190, 170, 165, 100, 150, 130, 150]\n",
    "footsize = [12, 11, 12, 10, 6, 8, 7, 9]\n",
    "le = preprocessing.LabelEncoder()\n",
    "height_encoded=le.fit_transform(height)\n",
    "weight_encoded=le.fit_transform(weight)\n",
    "footsize_encoded=le.fit_transform(footsize)\n",
    "features=list(zip(height_encoded,weight_encoded, footsize_encoded))\n",
    "from sklearn.model_selection import train_test_split\n",
    "features_train, features_test,label_train,label_test=train_test_split(features, footsize_encoded, test_size=0.2, random_state=40)\n",
    "classifier = DecisionTreeClassifier()\n",
    "classifier = classifier.fit(features_train, label_train)\n",
    "predicted = classifier.predict(features_test)\n",
    "print(\"prediction:\", predicted)\n",
    "from sklearn.metrics import confusion_matrix, accuracy_score\n",
    "conf_mat = confusion_matrix(label_test, predicted)\n",
    "print(\"Confusion Matrix:\")\n",
    "print(conf_mat)\n",
    "accuracy=accuracy_score(label_test, predicted)\n",
    "print(\"accuracy:\",accuracy)"
   ]
  },
  {
   "cell_type": "code",
   "execution_count": null,
   "id": "7f9afbc4-8a93-476f-8c23-10cfc40fdcc5",
   "metadata": {},
   "outputs": [],
   "source": []
  },
  {
   "cell_type": "code",
   "execution_count": null,
   "id": "123ced7b-28d8-4c0e-852a-1f49b9899dab",
   "metadata": {},
   "outputs": [],
   "source": []
  },
  {
   "cell_type": "code",
   "execution_count": null,
   "id": "32e40170-ec89-4e5a-9e78-897dfbb3ae33",
   "metadata": {},
   "outputs": [],
   "source": []
  }
 ],
 "metadata": {
  "kernelspec": {
   "display_name": "Python 3 (ipykernel)",
   "language": "python",
   "name": "python3"
  },
  "language_info": {
   "codemirror_mode": {
    "name": "ipython",
    "version": 3
   },
   "file_extension": ".py",
   "mimetype": "text/x-python",
   "name": "python",
   "nbconvert_exporter": "python",
   "pygments_lexer": "ipython3",
   "version": "3.12.7"
  }
 },
 "nbformat": 4,
 "nbformat_minor": 5
}
