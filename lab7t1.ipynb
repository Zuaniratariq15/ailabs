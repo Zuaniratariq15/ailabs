{
 "cells": [
  {
   "cell_type": "code",
   "execution_count": 3,
   "id": "3bcf22e2-f655-4aba-987e-d49feccd4b6d",
   "metadata": {},
   "outputs": [
    {
     "name": "stdout",
     "output_type": "stream",
     "text": [
      "Original DataFrame:\n",
      "   Student  Math  Science  English\n",
      "0    Alice  90.0     88.0     92.0\n",
      "1      Bob  85.0      NaN     81.0\n",
      "2  Charlie   NaN     95.0     85.0\n",
      "3    David  78.0     80.0      NaN\n",
      "4      Eve  88.0     89.0     87.0\n",
      "\n",
      "DataFrame After Forward Fill:\n",
      "   Student  Math  Science  English\n",
      "0    Alice  90.0     88.0     92.0\n",
      "1      Bob  85.0     88.0     81.0\n",
      "2  Charlie  85.0     95.0     85.0\n",
      "3    David  78.0     80.0     85.0\n",
      "4      Eve  88.0     89.0     87.0\n"
     ]
    },
    {
     "name": "stderr",
     "output_type": "stream",
     "text": [
      "C:\\Users\\sumaira\\AppData\\Local\\Temp\\ipykernel_15180\\3417301363.py:16: FutureWarning: DataFrame.fillna with 'method' is deprecated and will raise in a future version. Use obj.ffill() or obj.bfill() instead.\n",
      "  df_filled = df.fillna(method=\"ffill\")\n"
     ]
    }
   ],
   "source": [
    "import pandas as pd\n",
    "import numpy as np\n",
    "\n",
    "# Step 1: Create a dictionary with student scores\n",
    "data = {\n",
    "    \"Student\": [\"Alice\", \"Bob\", \"Charlie\", \"David\", \"Eve\"],\n",
    "    \"Math\": [90, 85, np.nan, 78, 88],\n",
    "    \"Science\": [88, np.nan, 95, 80, 89],\n",
    "    \"English\": [92, 81, 85, np.nan, 87]\n",
    "}\n",
    "\n",
    "# Step 2: Convert the dictionary to a DataFrame\n",
    "df = pd.DataFrame(data)\n",
    "\n",
    "# Step 3: Apply forward fill to handle missing values\n",
    "df_filled = df.fillna(method=\"ffill\")\n",
    "\n",
    "# Display the DataFrame\n",
    "print(\"Original DataFrame:\")\n",
    "print(df)\n",
    "print(\"\\nDataFrame After Forward Fill:\")\n",
    "print(df_filled)\n"
   ]
  },
  {
   "cell_type": "code",
   "execution_count": null,
   "id": "e965a757-f0d2-415d-a9c1-4f92faa403be",
   "metadata": {},
   "outputs": [],
   "source": []
  }
 ],
 "metadata": {
  "kernelspec": {
   "display_name": "Python 3 (ipykernel)",
   "language": "python",
   "name": "python3"
  },
  "language_info": {
   "codemirror_mode": {
    "name": "ipython",
    "version": 3
   },
   "file_extension": ".py",
   "mimetype": "text/x-python",
   "name": "python",
   "nbconvert_exporter": "python",
   "pygments_lexer": "ipython3",
   "version": "3.12.7"
  }
 },
 "nbformat": 4,
 "nbformat_minor": 5
}
