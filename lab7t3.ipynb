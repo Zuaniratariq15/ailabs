{
 "cells": [
  {
   "cell_type": "code",
   "execution_count": 4,
   "id": "df4d1eb8-27e2-40be-b603-770a727c39a5",
   "metadata": {},
   "outputs": [
    {
     "name": "stdout",
     "output_type": "stream",
     "text": [
      "Accuracy: 1.0\n",
      "Predictions: [1 1]\n",
      "Actual Values: [1 1]\n"
     ]
    }
   ],
   "source": [
    "# Import necessary libraries\n",
    "import pandas as pd\n",
    "from sklearn.model_selection import train_test_split\n",
    "from sklearn.tree import DecisionTreeClassifier\n",
    "from sklearn.metrics import accuracy_score\n",
    "\n",
    "# Step 1: Create example dataset\n",
    "data = {\n",
    "    \"Credit_Score\": [700, 650, 580, 750, 610, 720, 500, 560, 800, 670],\n",
    "    \"Income\": [40000, 35000, 20000, 60000, 25000, 50000, 15000, 18000, 70000, 32000],\n",
    "    \"Loan_Amount\": [10000, 8000, 5000, 15000, 7000, 12000, 4000, 3000, 20000, 9000],\n",
    "    \"Debt_to_Income\": [0.3, 0.4, 0.6, 0.2, 0.5, 0.3, 0.7, 0.65, 0.15, 0.45],\n",
    "    \"Employment_Length\": [5, 3, 1, 7, 2, 6, 0, 1, 10, 4],\n",
    "    \"Risk\": [1, 1, 0, 1, 0, 1, 0, 0, 1, 1]  # 1 = Low Risk, 0 = High Risk\n",
    "}\n",
    "\n",
    "# Convert the data into a DataFrame\n",
    "df = pd.DataFrame(data)\n",
    "\n",
    "# Step 2: Preprocessing\n",
    "# Features (X) and Target (y)\n",
    "X = df.drop(\"Risk\", axis=1)\n",
    "y = df[\"Risk\"]\n",
    "\n",
    "# Train-test split\n",
    "X_train, X_test, y_train, y_test = train_test_split(X, y, test_size=0.2, random_state=42)\n",
    "\n",
    "# Step 3: Train Decision Tree Classifier\n",
    "dt_model = DecisionTreeClassifier(criterion=\"entropy\", max_depth=4, random_state=42)\n",
    "dt_model.fit(X_train, y_train)\n",
    "\n",
    "# Step 4: Make Predictions\n",
    "y_pred = dt_model.predict(X_test)\n",
    "\n",
    "# Step 5: Evaluate the Model\n",
    "accuracy = accuracy_score(y_test, y_pred)\n",
    "print(\"Accuracy:\", accuracy)\n",
    "print(\"Predictions:\", y_pred)\n",
    "print(\"Actual Values:\", y_test.values)\n"
   ]
  },
  {
   "cell_type": "code",
   "execution_count": null,
   "id": "440b81de-9f5f-44a3-90dd-b7f7a2ca7612",
   "metadata": {},
   "outputs": [],
   "source": []
  }
 ],
 "metadata": {
  "kernelspec": {
   "display_name": "Python 3 (ipykernel)",
   "language": "python",
   "name": "python3"
  },
  "language_info": {
   "codemirror_mode": {
    "name": "ipython",
    "version": 3
   },
   "file_extension": ".py",
   "mimetype": "text/x-python",
   "name": "python",
   "nbconvert_exporter": "python",
   "pygments_lexer": "ipython3",
   "version": "3.12.7"
  }
 },
 "nbformat": 4,
 "nbformat_minor": 5
}
