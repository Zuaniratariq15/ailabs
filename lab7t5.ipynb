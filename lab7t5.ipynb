{
 "cells": [
  {
   "cell_type": "code",
   "execution_count": 4,
   "id": "ddbbc675-b413-4e79-9cab-e68bd280f15e",
   "metadata": {},
   "outputs": [
    {
     "name": "stdout",
     "output_type": "stream",
     "text": [
      "Accuracy: 0.5\n",
      "\n",
      "Classification Report:\n",
      "               precision    recall  f1-score   support\n",
      "\n",
      "           0       0.00      0.00      0.00         0\n",
      "           1       1.00      0.50      0.67         2\n",
      "\n",
      "    accuracy                           0.50         2\n",
      "   macro avg       0.50      0.25      0.33         2\n",
      "weighted avg       1.00      0.50      0.67         2\n",
      "\n",
      "\n",
      "Predictions:\n",
      "        Symptoms  Actual Disease  Predicted Disease  Disease A Probability  \\\n",
      "0  [1, 0, 1, 1]               1                  0               0.721328   \n",
      "1  [0, 1, 1, 1]               1                  1               0.342414   \n",
      "\n",
      "   Disease B Probability  \n",
      "0               0.278672  \n",
      "1               0.657586  \n"
     ]
    },
    {
     "name": "stderr",
     "output_type": "stream",
     "text": [
      "C:\\Users\\sumaira\\anaconda3\\ana\\Lib\\site-packages\\sklearn\\metrics\\_classification.py:1531: UndefinedMetricWarning: Recall is ill-defined and being set to 0.0 in labels with no true samples. Use `zero_division` parameter to control this behavior.\n",
      "  _warn_prf(average, modifier, f\"{metric.capitalize()} is\", len(result))\n",
      "C:\\Users\\sumaira\\anaconda3\\ana\\Lib\\site-packages\\sklearn\\metrics\\_classification.py:1531: UndefinedMetricWarning: Recall is ill-defined and being set to 0.0 in labels with no true samples. Use `zero_division` parameter to control this behavior.\n",
      "  _warn_prf(average, modifier, f\"{metric.capitalize()} is\", len(result))\n",
      "C:\\Users\\sumaira\\anaconda3\\ana\\Lib\\site-packages\\sklearn\\metrics\\_classification.py:1531: UndefinedMetricWarning: Recall is ill-defined and being set to 0.0 in labels with no true samples. Use `zero_division` parameter to control this behavior.\n",
      "  _warn_prf(average, modifier, f\"{metric.capitalize()} is\", len(result))\n"
     ]
    }
   ],
   "source": [
    "# Import necessary libraries\n",
    "import pandas as pd\n",
    "from sklearn.model_selection import train_test_split\n",
    "from sklearn.linear_model import LogisticRegression\n",
    "from sklearn.metrics import accuracy_score, classification_report\n",
    "\n",
    "# Step 1: Example Dataset\n",
    "data = {\n",
    "    \"Symptom_1\": [1, 0, 1, 1, 0, 1, 0, 1, 1, 0],  # 1 = Present, 0 = Absent\n",
    "    \"Symptom_2\": [0, 1, 1, 0, 1, 0, 1, 1, 0, 1],\n",
    "    \"Symptom_3\": [1, 1, 1, 0, 1, 0, 0, 1, 1, 1],\n",
    "    \"Symptom_4\": [0, 1, 0, 1, 1, 0, 1, 0, 1, 1],\n",
    "    \"Disease\": [0, 1, 0, 0, 1, 0, 1, 0, 1, 1]  # 0 = Disease A, 1 = Disease B\n",
    "}\n",
    "\n",
    "# Convert to DataFrame\n",
    "df = pd.DataFrame(data)\n",
    "\n",
    "# Step 2: Preprocessing\n",
    "# Features (X) and Target (y)\n",
    "X = df.drop(\"Disease\", axis=1)  # Drop the target column\n",
    "y = df[\"Disease\"]  # Target column\n",
    "\n",
    "# Train-test split\n",
    "X_train, X_test, y_train, y_test = train_test_split(X, y, test_size=0.2, random_state=42)\n",
    "\n",
    "# Step 3: Train Logistic Regression Model\n",
    "model = LogisticRegression()\n",
    "model.fit(X_train, y_train)\n",
    "\n",
    "# Step 4: Make Predictions\n",
    "y_pred = model.predict(X_test)\n",
    "probabilities = model.predict_proba(X_test)  # Get probability predictions\n",
    "\n",
    "# Step 5: Evaluate the Model\n",
    "accuracy = accuracy_score(y_test, y_pred)\n",
    "report = classification_report(y_test, y_pred)\n",
    "\n",
    "print(\"Accuracy:\", accuracy)\n",
    "print(\"\\nClassification Report:\\n\", report)\n",
    "\n",
    "# Optional: Display predictions with probabilities\n",
    "predictions = pd.DataFrame({\n",
    "    \"Symptoms\": X_test.values.tolist(),\n",
    "    \"Actual Disease\": y_test.values,\n",
    "    \"Predicted Disease\": y_pred,\n",
    "    \"Disease A Probability\": probabilities[:, 0],  # Probability of Disease A\n",
    "    \"Disease B Probability\": probabilities[:, 1]   # Probability of Disease B\n",
    "})\n",
    "\n",
    "print(\"\\nPredictions:\\n\", predictions)\n"
   ]
  },
  {
   "cell_type": "code",
   "execution_count": null,
   "id": "eae9fd43-149d-45a7-a353-9aa48409cc17",
   "metadata": {},
   "outputs": [],
   "source": []
  }
 ],
 "metadata": {
  "kernelspec": {
   "display_name": "Python 3 (ipykernel)",
   "language": "python",
   "name": "python3"
  },
  "language_info": {
   "codemirror_mode": {
    "name": "ipython",
    "version": 3
   },
   "file_extension": ".py",
   "mimetype": "text/x-python",
   "name": "python",
   "nbconvert_exporter": "python",
   "pygments_lexer": "ipython3",
   "version": "3.12.7"
  }
 },
 "nbformat": 4,
 "nbformat_minor": 5
}
