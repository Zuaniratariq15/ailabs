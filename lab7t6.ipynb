{
 "cells": [
  {
   "cell_type": "code",
   "execution_count": 2,
   "id": "2893d7f1-7c97-4565-ba31-868b2ffe8e30",
   "metadata": {},
   "outputs": [
    {
     "name": "stdout",
     "output_type": "stream",
     "text": [
      "Mean Squared Error (MSE): 441245763.9658577\n",
      "R-squared (R2): 0.9666354809855684\n",
      "\n",
      "Predictions:\n",
      "            Features  Actual Price  Predicted Price\n",
      "0   [4, 3, 2200, 6]        430000    415455.271566\n",
      "1  [2, 1, 1200, 20]        200000    225902.555911\n"
     ]
    }
   ],
   "source": [
    "# Import necessary libraries\n",
    "import pandas as pd\n",
    "from sklearn.model_selection import train_test_split\n",
    "from sklearn.linear_model import LinearRegression\n",
    "from sklearn.metrics import mean_squared_error, r2_score\n",
    "\n",
    "# Step 1: Example Dataset\n",
    "data = {\n",
    "    \"Bedrooms\": [3, 2, 4, 3, 5, 3, 4, 2, 4, 3],\n",
    "    \"Bathrooms\": [2, 1, 3, 2, 4, 2, 3, 1, 3, 2],\n",
    "    \"Square_Footage\": [1500, 1200, 2500, 1800, 3000, 1600, 2400, 1300, 2200, 1700],\n",
    "    \"Age\": [10, 20, 5, 15, 2, 8, 7, 25, 6, 12],\n",
    "    \"Price\": [300000, 200000, 400000, 350000, 500000, 320000, 450000, 210000, 430000, 330000]\n",
    "}\n",
    "\n",
    "# Convert to DataFrame\n",
    "df = pd.DataFrame(data)\n",
    "\n",
    "# Step 2: Preprocessing\n",
    "# Features (X) and Target (y)\n",
    "X = df.drop(\"Price\", axis=1)  # Drop the target column\n",
    "y = df[\"Price\"]  # Target column\n",
    "\n",
    "# Train-test split\n",
    "X_train, X_test, y_train, y_test = train_test_split(X, y, test_size=0.2, random_state=42)\n",
    "\n",
    "# Step 3: Train Linear Regression Model\n",
    "model = LinearRegression()\n",
    "model.fit(X_train, y_train)\n",
    "\n",
    "# Step 4: Make Predictions\n",
    "y_pred = model.predict(X_test)\n",
    "\n",
    "# Step 5: Evaluate the Model\n",
    "mse = mean_squared_error(y_test, y_pred)\n",
    "r2 = r2_score(y_test, y_pred)\n",
    "\n",
    "print(\"Mean Squared Error (MSE):\", mse)\n",
    "print(\"R-squared (R2):\", r2)\n",
    "\n",
    "# Optional: Display predictions\n",
    "predictions = pd.DataFrame({\n",
    "    \"Features\": X_test.values.tolist(),\n",
    "    \"Actual Price\": y_test.values,\n",
    "    \"Predicted Price\": y_pred\n",
    "})\n",
    "print(\"\\nPredictions:\\n\", predictions)\n"
   ]
  },
  {
   "cell_type": "code",
   "execution_count": null,
   "id": "248d06b4-c036-481c-b15c-75ae85344edd",
   "metadata": {},
   "outputs": [],
   "source": []
  }
 ],
 "metadata": {
  "kernelspec": {
   "display_name": "Python 3 (ipykernel)",
   "language": "python",
   "name": "python3"
  },
  "language_info": {
   "codemirror_mode": {
    "name": "ipython",
    "version": 3
   },
   "file_extension": ".py",
   "mimetype": "text/x-python",
   "name": "python",
   "nbconvert_exporter": "python",
   "pygments_lexer": "ipython3",
   "version": "3.12.7"
  }
 },
 "nbformat": 4,
 "nbformat_minor": 5
}
