{
 "cells": [
  {
   "cell_type": "code",
   "execution_count": null,
   "id": "9dc3fee1-3952-4e14-8e6e-c7075f5d9ccd",
   "metadata": {},
   "outputs": [
    {
     "name": "stdout",
     "output_type": "stream",
     "text": [
      "Available Users: ['faheem', 'fatimah', 'naeemah', 'zuni']\n"
     ]
    }
   ],
   "source": [
    "import pandas as pd\n",
    "import numpy as np\n",
    "from sklearn.metrics.pairwise import cosine_similarity\n",
    "\n",
    "# Step 1: Load the dataset\n",
    "data = pd.DataFrame({\n",
    "    'user_name': ['fatimah', 'faheem', 'faheem', 'naeemah', 'naeemah', 'naeemah', 'fatimah', 'zuni', 'zuni', 'fatimah', 'zuni', 'faheem'],\n",
    "    'food_item': ['Pizza', 'fries', 'Salad', 'Pizza', 'Sushi', 'Salad', 'Pizza', 'Sushi', 'burger', 'Pizza', 'burger', 'Salad'],\n",
    "    'rating': [5, 3, 4, 4, 0, 5, 2, 5, 4, 4, 4, 5]\n",
    "})\n",
    "\n",
    "# Step 2: Resolve duplicate entries by averaging the ratings\n",
    "data = data.groupby(['user_name', 'food_item'], as_index=False)['rating'].mean()\n",
    "\n",
    "# Step 3: Create the user-item rating matrix\n",
    "user_item_matrix = data.pivot(index='user_name', columns='food_item', values='rating').fillna(0)\n",
    "\n",
    "# Step 4: Calculate cosine similarity between food items\n",
    "food_similarity = cosine_similarity(user_item_matrix.T)\n",
    "food_similarity_df = pd.DataFrame(food_similarity, index=user_item_matrix.columns, columns=user_item_matrix.columns)\n",
    "\n",
    "# Step 5: Define a function to recommend food items for a user\n",
    "def recommend_foods(user_name, num_recommendations=3):\n",
    "    if user_name not in user_item_matrix.index:\n",
    "        return f\"User '{user_name}' not found in the dataset.\"\n",
    "    \n",
    "    # Get the ratings for the specified user\n",
    "    user_ratings = user_item_matrix.loc[user_name]\n",
    "    \n",
    "    # Identify foods the user has already rated\n",
    "    rated_foods = user_ratings[user_ratings > 0].index\n",
    "    \n",
    "    # Predict ratings for unrated foods\n",
    "    predicted_ratings = {}\n",
    "    for food_item in user_item_matrix.columns:\n",
    "        if food_item not in rated_foods:\n",
    "            similar_foods = food_similarity_df[food_item]\n",
    "            user_rated_similarities = similar_foods[rated_foods]\n",
    "            user_rated_values = user_ratings[rated_foods]\n",
    "            \n",
    "            # Compute predicted rating using weighted average\n",
    "            if user_rated_similarities.sum() > 0:\n",
    "                predicted_rating = (user_rated_similarities @ user_rated_values) / user_rated_similarities.sum()\n",
    "            else:\n",
    "                predicted_rating = 0\n",
    "            \n",
    "            predicted_ratings[food_item] = predicted_rating\n",
    "    \n",
    "    # Sort the predicted ratings and return the top recommendations\n",
    "    recommended_foods = sorted(predicted_ratings.items(), key=lambda x: x[1], reverse=True)[:num_recommendations]\n",
    "    return [food for food, rating in recommended_foods]\n",
    "\n",
    "# Step 6: Take user input and recommend food items\n",
    "def main():\n",
    "    print(\"Available Users:\", list(user_item_matrix.index))\n",
    "    user_name = input(\"Enter the User Name to get food recommendations: \").strip()\n",
    "    try:\n",
    "        num_recommendations = int(input(\"Enter the number of recommendations you want: \"))\n",
    "        recommended_foods = recommend_foods(user_name, num_recommendations)\n",
    "        print(f\"Recommended foods for {user_name}: {recommended_foods}\")\n",
    "    except ValueError:\n",
    "        print(\"Invalid input. Please ensure you enter a valid number for recommendations.\")\n",
    "\n",
    "if __name__ == \"__main__\":\n",
    "    main()\n"
   ]
  },
  {
   "cell_type": "code",
   "execution_count": null,
   "id": "545a34bb-b66c-4558-8154-f0e50f180af0",
   "metadata": {},
   "outputs": [],
   "source": []
  }
 ],
 "metadata": {
  "kernelspec": {
   "display_name": "Python 3 (ipykernel)",
   "language": "python",
   "name": "python3"
  },
  "language_info": {
   "codemirror_mode": {
    "name": "ipython",
    "version": 3
   },
   "file_extension": ".py",
   "mimetype": "text/x-python",
   "name": "python",
   "nbconvert_exporter": "python",
   "pygments_lexer": "ipython3",
   "version": "3.12.7"
  }
 },
 "nbformat": 4,
 "nbformat_minor": 5
}
